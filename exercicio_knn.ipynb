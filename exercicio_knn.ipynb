{
 "cells": [
  {
   "cell_type": "code",
   "execution_count": 19,
   "id": "cf59f0ce",
   "metadata": {},
   "outputs": [],
   "source": [
    "import numpy as np\n",
    "import csv\n",
    "import random\n",
    "from collections import Counter, defaultdict"
   ]
  },
  {
   "cell_type": "code",
   "execution_count": 22,
   "id": "100ebcdf",
   "metadata": {},
   "outputs": [],
   "source": [
    "# Uma tentativa de modelar a flor\n",
    "class iris():\n",
    "    def __init__(self, nome, caracteristica):\n",
    "        self.nome = nome\n",
    "        self.caracteristica = caracteristica"
   ]
  },
  {
   "cell_type": "code",
   "execution_count": 23,
   "id": "c6cf0e30",
   "metadata": {},
   "outputs": [],
   "source": [
    "# fazendo alguns tratamentos no nome da flor e criando o objeto\n",
    "def parse_iris_row(row):\n",
    "    measurements = [float(value) for value in row[:-1]]\n",
    "    label = row[-1].split(\"-\")[-1]\n",
    "    return iris(label, measurements)"
   ]
  },
  {
   "cell_type": "code",
   "execution_count": 24,
   "id": "83785eda",
   "metadata": {},
   "outputs": [],
   "source": [
    "# Função para dividir o conjunto de dados\n",
    "def split_data(data, train_size=0.8):\n",
    "    random.shuffle(data)\n",
    "    cut = int(len(data) * train_size)\n",
    "    return data[:cut], data[cut:]"
   ]
  },
  {
   "cell_type": "code",
   "execution_count": 25,
   "id": "6bdd9b3f",
   "metadata": {},
   "outputs": [],
   "source": [
    "# calcula a distância euclidiana\n",
    "def euclidian_distance(vector1, vector2):\n",
    "    return np.sqrt(np.square(np.subtract(vector1,vector2)).sum())"
   ]
  },
  {
   "cell_type": "code",
   "execution_count": 26,
   "id": "2ce1f40a",
   "metadata": {},
   "outputs": [],
   "source": [
    "# Contagem de ocorrências\n",
    "def majority_vote(labels):\n",
    "    vote_counts = Counter(labels)\n",
    "    winner, winner_count = vote_counts.most_common(1)[0]\n",
    "    num_winners = len([count for count in vote_counts.values() if count == winner_count])\n",
    "    if num_winners == 1:\n",
    "        return winner\n",
    "    else:\n",
    "        return majority_vote(labels[:-1])"
   ]
  },
  {
   "cell_type": "code",
   "execution_count": 27,
   "id": "506a961d",
   "metadata": {},
   "outputs": [],
   "source": [
    "def knn_classify(k, iris_class, new_point):\n",
    "    by_distance = sorted(iris_class,\n",
    "                     key=lambda lp: euclidian_distance(lp.caracteristica, new_point))\n",
    "    k_nearest_labels = [lp.nome for lp in by_distance[:k]]\n",
    "    return majority_vote(k_nearest_labels)"
   ]
  },
  {
   "cell_type": "code",
   "execution_count": 28,
   "id": "74854373",
   "metadata": {},
   "outputs": [],
   "source": [
    "import csv\n",
    "with open('iris.data') as f:\n",
    "    reader = csv.reader(f)\n",
    "    iris_data = [parse_iris_row(row) for row in reader]"
   ]
  },
  {
   "cell_type": "code",
   "execution_count": 29,
   "id": "c2251b6a",
   "metadata": {},
   "outputs": [],
   "source": [
    "iris_train, iris_test = split_data(iris_data)"
   ]
  },
  {
   "cell_type": "code",
   "execution_count": 34,
   "id": "d38ff225",
   "metadata": {},
   "outputs": [
    {
     "name": "stdout",
     "output_type": "stream",
     "text": [
      "0.9333333333333333\n"
     ]
    }
   ],
   "source": [
    "confusion_matrix = defaultdict(int)\n",
    "num_correct = 0\n",
    "for iris in iris_test:\n",
    "    predicted = knn_classify(5, iris_train, iris.caracteristica)\n",
    "    actual = iris.nome\n",
    "    \n",
    "    if predicted == actual:\n",
    "        num_correct += 1\n",
    "        \n",
    "    confusion_matrix[(predicted, actual)] += 1\n",
    "    \n",
    "pct_correct = num_correct / len(iris_test)\n",
    "print(pct_correct)"
   ]
  },
  {
   "cell_type": "code",
   "execution_count": 36,
   "id": "bcdbff24",
   "metadata": {},
   "outputs": [
    {
     "name": "stdout",
     "output_type": "stream",
     "text": [
      "('versicolor', 'versicolor') = 12\n",
      "('virginica', 'versicolor') = 2\n",
      "('setosa', 'setosa') = 10\n",
      "('virginica', 'virginica') = 6\n"
     ]
    }
   ],
   "source": [
    "for k, v in confusion_matrix.items():\n",
    "    print(f'{k} = {v}')"
   ]
  }
 ],
 "metadata": {
  "kernelspec": {
   "display_name": "Python 3 (ipykernel)",
   "language": "python",
   "name": "python3"
  },
  "language_info": {
   "codemirror_mode": {
    "name": "ipython",
    "version": 3
   },
   "file_extension": ".py",
   "mimetype": "text/x-python",
   "name": "python",
   "nbconvert_exporter": "python",
   "pygments_lexer": "ipython3",
   "version": "3.8.10"
  }
 },
 "nbformat": 4,
 "nbformat_minor": 5
}
